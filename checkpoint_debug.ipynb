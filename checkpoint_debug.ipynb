{
 "cells": [
  {
   "cell_type": "code",
   "execution_count": null,
   "id": "5bd51d83",
   "metadata": {},
   "outputs": [],
   "source": [
    "from langchain_google_cloud_sql_pg import (\n",
    "    PostgresEngine,\n",
    "    PostgresSaver,\n",
    ")\n",
    "from src.config import env\n",
    "from langchain_core.runnables import RunnableConfig\n",
    "from langchain.load import dumpd\n",
    "\n",
    "from langchain_core.messages import AIMessage, BaseMessage, ToolMessage, HumanMessage"
   ]
  },
  {
   "cell_type": "code",
   "execution_count": null,
   "id": "5d2101b8",
   "metadata": {},
   "outputs": [],
   "source": [
    "async def get_ckeckpoint():\n",
    "    engine = await PostgresEngine.afrom_instance(\n",
    "        project_id=env.PROJECT_ID,\n",
    "        region=env.LOCATION,\n",
    "        instance=env.INSTANCE,\n",
    "        database=env.DATABASE,\n",
    "        user=env.DATABASE_USER,\n",
    "        password=env.DATABASE_PASSWORD,\n",
    "        engine_args={\"pool_pre_ping\": True, \"pool_recycle\": 300},\n",
    "    )\n",
    "    checkpointer = await PostgresSaver.create(engine=engine)\n",
    "    return checkpointer\n",
    "\n",
    "\n",
    "checkpointer = await get_ckeckpoint()"
   ]
  },
  {
   "cell_type": "code",
   "execution_count": null,
   "id": "d1c787a8",
   "metadata": {},
   "outputs": [],
   "source": [
    "user_id = \"5521996143632\"\n",
    "# user_id = \"5518981524292\"\n",
    "config = RunnableConfig(configurable={\"thread_id\": user_id})\n",
    "l = await checkpointer.aget(config=config)\n",
    "messages = l[\"channel_values\"][\"messages\"]"
   ]
  },
  {
   "cell_type": "code",
   "execution_count": null,
   "id": "6149d623",
   "metadata": {},
   "outputs": [],
   "source": [
    "from typing import Sequence, List\n",
    "\n",
    "\n",
    "def clean_malformed_messages(messages: Sequence[BaseMessage]) -> List[BaseMessage]:\n",
    "    \"\"\"\n",
    "    Remove mensagens mal formadas que podem causar erro no Gemini API.\n",
    "\n",
    "    Remove AIMessages que têm:\n",
    "    - content vazio (empty string) E\n",
    "    - tool_calls vazio (lista vazia ou None)\n",
    "\n",
    "    Args:\n",
    "        messages: Sequência de mensagens para limpar\n",
    "\n",
    "    Returns:\n",
    "        Lista de mensagens válidas\n",
    "    \"\"\"\n",
    "    cleaned_messages = []\n",
    "\n",
    "    for message in messages:\n",
    "        # Verifica se é uma AIMessage com problemas\n",
    "        if isinstance(message, AIMessage):\n",
    "            # Verifica se tem conteúdo vazio E tool_calls vazio\n",
    "            has_empty_content = not message.content or message.content.strip() == \"\"\n",
    "            has_empty_tool_calls = (\n",
    "                not message.tool_calls or len(message.tool_calls) == 0\n",
    "            )\n",
    "            finish_reason = message.response_metadata.get(\"finish_reason\")\n",
    "            # Se ambos estão vazios, pula esta mensagem\n",
    "            if (\n",
    "                has_empty_content and has_empty_tool_calls\n",
    "            ) or finish_reason == \"MALFORMED_FUNCTION_CALL\":\n",
    "                print(f\"Removendo AIMessage mal formada: ID={message.id}\")\n",
    "                continue\n",
    "\n",
    "        # Adiciona mensagem válida à lista\n",
    "        cleaned_messages.append(message)\n",
    "\n",
    "    return cleaned_messages"
   ]
  },
  {
   "cell_type": "code",
   "execution_count": null,
   "id": "e997845a",
   "metadata": {},
   "outputs": [],
   "source": [
    "cleaned_messages = clean_malformed_messages(messages=messages)"
   ]
  },
  {
   "cell_type": "code",
   "execution_count": null,
   "id": "648bd0fa",
   "metadata": {},
   "outputs": [],
   "source": []
  },
  {
   "cell_type": "code",
   "execution_count": null,
   "id": "086ab2c6",
   "metadata": {},
   "outputs": [],
   "source": []
  },
  {
   "cell_type": "code",
   "execution_count": null,
   "id": "b07b46b3",
   "metadata": {},
   "outputs": [],
   "source": []
  }
 ],
 "metadata": {
  "kernelspec": {
   "display_name": "app-eai-agent-google-engine",
   "language": "python",
   "name": "python3"
  },
  "language_info": {
   "codemirror_mode": {
    "name": "ipython",
    "version": 3
   },
   "file_extension": ".py",
   "mimetype": "text/x-python",
   "name": "python",
   "nbconvert_exporter": "python",
   "pygments_lexer": "ipython3",
   "version": "3.13.2"
  }
 },
 "nbformat": 4,
 "nbformat_minor": 5
}
