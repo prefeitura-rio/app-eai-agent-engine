{
 "cells": [
  {
   "cell_type": "code",
   "execution_count": 25,
   "id": "5bd51d83",
   "metadata": {},
   "outputs": [],
   "source": [
    "from langchain_google_cloud_sql_pg import (\n",
    "    PostgresEngine,\n",
    "    PostgresSaver,\n",
    ")\n",
    "from src.config import env\n",
    "from langchain_core.runnables import RunnableConfig\n",
    "from langchain.load import dumpd"
   ]
  },
  {
   "cell_type": "code",
   "execution_count": 3,
   "id": "500c78f0",
   "metadata": {},
   "outputs": [],
   "source": [
    "async def get_ckeckpoint():\n",
    "    engine = await PostgresEngine.afrom_instance(\n",
    "        project_id=env.PROJECT_ID,\n",
    "        region=env.LOCATION,\n",
    "        instance=env.INSTANCE,\n",
    "        database=env.DATABASE,\n",
    "        user=env.DATABASE_USER,\n",
    "        password=env.DATABASE_PASSWORD,\n",
    "        engine_args={\"pool_pre_ping\": True, \"pool_recycle\": 300},\n",
    "    )\n",
    "    checkpointer = await PostgresSaver.create(engine=engine)\n",
    "    return checkpointer"
   ]
  },
  {
   "cell_type": "code",
   "execution_count": null,
   "id": "56d6c9a2",
   "metadata": {},
   "outputs": [],
   "source": [
    "user_id = \"1154af1a-7bf6-441d-ae06-4590a66c0d3d\"\n",
    "checkpointer = await get_ckeckpoint()\n",
    "config = {\"configurable\": {\"thread_id\": user_id}}"
   ]
  },
  {
   "cell_type": "code",
   "execution_count": null,
   "id": "bc30c56c",
   "metadata": {},
   "outputs": [],
   "source": [
    "config = RunnableConfig(configurable={\"thread_id\": user_id})"
   ]
  },
  {
   "cell_type": "code",
   "execution_count": 11,
   "id": "d1c787a8",
   "metadata": {},
   "outputs": [],
   "source": [
    "l = await checkpointer.aget(config=config)"
   ]
  },
  {
   "cell_type": "code",
   "execution_count": null,
   "id": "f6515f35",
   "metadata": {},
   "outputs": [],
   "source": [
    "messages = l[\"channel_values\"][\"messages\"]"
   ]
  },
  {
   "cell_type": "code",
   "execution_count": null,
   "id": "4e79c4cb",
   "metadata": {},
   "outputs": [],
   "source": [
    "from enum import Enum\n",
    "from typing import Sequence\n",
    "from langchain_core.messages import AIMessage, BaseMessage, ToolMessage\n",
    "\n",
    "\n",
    "class ErrorCode(Enum):\n",
    "    GRAPH_RECURSION_LIMIT = \"GRAPH_RECURSION_LIMIT\"\n",
    "    INVALID_CONCURRENT_GRAPH_UPDATE = \"INVALID_CONCURRENT_GRAPH_UPDATE\"\n",
    "    INVALID_GRAPH_NODE_RETURN_VALUE = \"INVALID_GRAPH_NODE_RETURN_VALUE\"\n",
    "    MULTIPLE_SUBGRAPHS = \"MULTIPLE_SUBGRAPHS\"\n",
    "    INVALID_CHAT_HISTORY = \"INVALID_CHAT_HISTORY\"\n",
    "\n",
    "\n",
    "def create_error_message(*, message: str, error_code: ErrorCode) -> str:\n",
    "    return (\n",
    "        f\"{message}\\n\"\n",
    "        \"For troubleshooting, visit: https://python.langchain.com/docs/\"\n",
    "        f\"troubleshooting/errors/{error_code.value}\"\n",
    "    )\n",
    "\n",
    "\n",
    "def _validate_chat_history(\n",
    "    messages: Sequence[BaseMessage],\n",
    ") -> None:\n",
    "    \"\"\"Validate that all tool calls in AIMessages have a corresponding ToolMessage.\"\"\"\n",
    "    all_tool_calls = [\n",
    "        tool_call\n",
    "        for message in messages\n",
    "        if isinstance(message, AIMessage)\n",
    "        for tool_call in message.tool_calls\n",
    "    ]\n",
    "    tool_call_ids_with_results = {\n",
    "        message.tool_call_id for message in messages if isinstance(message, ToolMessage)\n",
    "    }\n",
    "    tool_calls_without_results = [\n",
    "        tool_call\n",
    "        for tool_call in all_tool_calls\n",
    "        if tool_call[\"id\"] not in tool_call_ids_with_results\n",
    "    ]\n",
    "\n",
    "    print(tool_calls_without_results)\n",
    "    if not tool_calls_without_results:\n",
    "        return\n",
    "\n",
    "    error_message = create_error_message(\n",
    "        message=\"Found AIMessages with tool_calls that do not have a corresponding ToolMessage. \"\n",
    "        f\"Here are the first few of those tool calls: {tool_calls_without_results[:3]}.\\n\\n\"\n",
    "        \"Every tool call (LLM requesting to call a tool) in the message history MUST have a corresponding ToolMessage \"\n",
    "        \"(result of a tool invocation to return to the LLM) - this is required by most LLM providers.\",\n",
    "        error_code=ErrorCode.INVALID_CHAT_HISTORY,\n",
    "    )\n",
    "    raise ValueError(error_message)"
   ]
  },
  {
   "cell_type": "code",
   "execution_count": 31,
   "id": "08925583",
   "metadata": {},
   "outputs": [
    {
     "ename": "ValueError",
     "evalue": "Found AIMessages with tool_calls that do not have a corresponding ToolMessage. Here are the first few of those tool calls: [{'name': 'google_search', 'args': {'query': 'autorização van escolar prefeitura rio de janeiro requisitos'}, 'id': '3e66bc30-16b6-47dd-a598-048e3510fea3', 'type': 'tool_call'}].\n\nEvery tool call (LLM requesting to call a tool) in the message history MUST have a corresponding ToolMessage (result of a tool invocation to return to the LLM) - this is required by most LLM providers.\nFor troubleshooting, visit: https://python.langchain.com/docs/troubleshooting/errors/INVALID_CHAT_HISTORY",
     "output_type": "error",
     "traceback": [
      "\u001b[31m---------------------------------------------------------------------------\u001b[39m",
      "\u001b[31mValueError\u001b[39m                                Traceback (most recent call last)",
      "\u001b[36mCell\u001b[39m\u001b[36m \u001b[39m\u001b[32mIn[31]\u001b[39m\u001b[32m, line 1\u001b[39m\n\u001b[32m----> \u001b[39m\u001b[32m1\u001b[39m \u001b[43m_validate_chat_history\u001b[49m\u001b[43m(\u001b[49m\u001b[43mmessages\u001b[49m\u001b[43m)\u001b[49m\n",
      "\u001b[36mCell\u001b[39m\u001b[36m \u001b[39m\u001b[32mIn[30]\u001b[39m\u001b[32m, line 50\u001b[39m, in \u001b[36m_validate_chat_history\u001b[39m\u001b[34m(messages)\u001b[39m\n\u001b[32m     41\u001b[39m     \u001b[38;5;28;01mreturn\u001b[39;00m\n\u001b[32m     43\u001b[39m error_message = create_error_message(\n\u001b[32m     44\u001b[39m     message=\u001b[33m\"\u001b[39m\u001b[33mFound AIMessages with tool_calls that do not have a corresponding ToolMessage. \u001b[39m\u001b[33m\"\u001b[39m\n\u001b[32m     45\u001b[39m     \u001b[33mf\u001b[39m\u001b[33m\"\u001b[39m\u001b[33mHere are the first few of those tool calls: \u001b[39m\u001b[38;5;132;01m{\u001b[39;00mtool_calls_without_results[:\u001b[32m3\u001b[39m]\u001b[38;5;132;01m}\u001b[39;00m\u001b[33m.\u001b[39m\u001b[38;5;130;01m\\n\u001b[39;00m\u001b[38;5;130;01m\\n\u001b[39;00m\u001b[33m\"\u001b[39m\n\u001b[32m   (...)\u001b[39m\u001b[32m     48\u001b[39m     error_code=ErrorCode.INVALID_CHAT_HISTORY,\n\u001b[32m     49\u001b[39m )\n\u001b[32m---> \u001b[39m\u001b[32m50\u001b[39m \u001b[38;5;28;01mraise\u001b[39;00m \u001b[38;5;167;01mValueError\u001b[39;00m(error_message)\n",
      "\u001b[31mValueError\u001b[39m: Found AIMessages with tool_calls that do not have a corresponding ToolMessage. Here are the first few of those tool calls: [{'name': 'google_search', 'args': {'query': 'autorização van escolar prefeitura rio de janeiro requisitos'}, 'id': '3e66bc30-16b6-47dd-a598-048e3510fea3', 'type': 'tool_call'}].\n\nEvery tool call (LLM requesting to call a tool) in the message history MUST have a corresponding ToolMessage (result of a tool invocation to return to the LLM) - this is required by most LLM providers.\nFor troubleshooting, visit: https://python.langchain.com/docs/troubleshooting/errors/INVALID_CHAT_HISTORY"
     ]
    }
   ],
   "source": [
    "_validate_chat_history(messages)"
   ]
  },
  {
   "cell_type": "code",
   "execution_count": 32,
   "id": "e387c140",
   "metadata": {},
   "outputs": [
    {
     "data": {
      "text/plain": [
       "AIMessage(content='', additional_kwargs={'function_call': {'name': 'google_search', 'arguments': '{\"query\": \"autoriza\\\\u00e7\\\\u00e3o van escolar prefeitura rio de janeiro requisitos\"}'}}, response_metadata={'is_blocked': False, 'safety_ratings': [], 'usage_metadata': {'prompt_token_count': 4482, 'candidates_token_count': 13, 'total_token_count': 4597, 'cached_content_token_count': 4366, 'prompt_tokens_details': [{'modality': 1, 'token_count': 4482}], 'cache_tokens_details': [{'modality': 1, 'token_count': 4366}], 'candidates_tokens_details': [{'modality': 1, 'token_count': 13}], 'thoughts_token_count': 102}, 'finish_reason': 'STOP', 'avg_logprobs': -1.3487435854398286, 'model_name': 'gemini-2.5-flash'}, id='run--11744d20-998e-4fab-82e7-cd352e3120e6-0', tool_calls=[{'name': 'google_search', 'args': {'query': 'autorização van escolar prefeitura rio de janeiro requisitos'}, 'id': '3e66bc30-16b6-47dd-a598-048e3510fea3', 'type': 'tool_call'}], usage_metadata={'input_tokens': 4482, 'output_tokens': 13, 'total_tokens': 4597, 'input_token_details': {'cache_read': 4366}, 'output_token_details': {'reasoning': 102}})"
      ]
     },
     "execution_count": 32,
     "metadata": {},
     "output_type": "execute_result"
    }
   ],
   "source": [
    "messages[1]"
   ]
  },
  {
   "cell_type": "code",
   "execution_count": null,
   "id": "4bb64735",
   "metadata": {},
   "outputs": [],
   "source": []
  },
  {
   "cell_type": "code",
   "execution_count": null,
   "id": "942d3b5e",
   "metadata": {},
   "outputs": [],
   "source": []
  },
  {
   "cell_type": "code",
   "execution_count": null,
   "id": "ed3cd349",
   "metadata": {},
   "outputs": [],
   "source": [
    "# list = checkpointer.alist(config={\"configurable\": {\"thread_id\": user_id}})\n",
    "# print(list)"
   ]
  },
  {
   "cell_type": "code",
   "execution_count": null,
   "id": "e997845a",
   "metadata": {},
   "outputs": [],
   "source": []
  },
  {
   "cell_type": "code",
   "execution_count": null,
   "id": "9f3c5172",
   "metadata": {},
   "outputs": [],
   "source": []
  },
  {
   "cell_type": "code",
   "execution_count": null,
   "id": "648bd0fa",
   "metadata": {},
   "outputs": [],
   "source": []
  },
  {
   "cell_type": "code",
   "execution_count": null,
   "id": "086ab2c6",
   "metadata": {},
   "outputs": [],
   "source": []
  },
  {
   "cell_type": "code",
   "execution_count": null,
   "id": "b07b46b3",
   "metadata": {},
   "outputs": [],
   "source": []
  }
 ],
 "metadata": {
  "kernelspec": {
   "display_name": "app-eai-agent-google-engine",
   "language": "python",
   "name": "python3"
  },
  "language_info": {
   "codemirror_mode": {
    "name": "ipython",
    "version": 3
   },
   "file_extension": ".py",
   "mimetype": "text/x-python",
   "name": "python",
   "nbconvert_exporter": "python",
   "pygments_lexer": "ipython3",
   "version": "3.13.2"
  }
 },
 "nbformat": 4,
 "nbformat_minor": 5
}
