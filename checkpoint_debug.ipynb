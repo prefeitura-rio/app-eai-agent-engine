{
 "cells": [
  {
   "cell_type": "code",
   "execution_count": 25,
   "id": "5bd51d83",
   "metadata": {},
   "outputs": [],
   "source": [
    "from langchain_google_cloud_sql_pg import (\n",
    "    PostgresEngine,\n",
    "    PostgresSaver,\n",
    ")\n",
    "from src.config import env\n",
    "from langchain_core.runnables import RunnableConfig\n",
    "from langchain.load import dumpd"
   ]
  },
  {
   "cell_type": "code",
   "execution_count": 3,
   "id": "500c78f0",
   "metadata": {},
   "outputs": [],
   "source": [
    "async def get_ckeckpoint():\n",
    "    engine = await PostgresEngine.afrom_instance(\n",
    "        project_id=env.PROJECT_ID,\n",
    "        region=env.LOCATION,\n",
    "        instance=env.INSTANCE,\n",
    "        database=env.DATABASE,\n",
    "        user=env.DATABASE_USER,\n",
    "        password=env.DATABASE_PASSWORD,\n",
    "        engine_args={\"pool_pre_ping\": True, \"pool_recycle\": 300},\n",
    "    )\n",
    "    checkpointer = await PostgresSaver.create(engine=engine)\n",
    "    return checkpointer"
   ]
  },
  {
   "cell_type": "code",
   "execution_count": null,
   "id": "56d6c9a2",
   "metadata": {},
   "outputs": [],
   "source": [
    "checkpointer = await get_ckeckpoint()"
   ]
  },
  {
   "cell_type": "code",
   "execution_count": null,
   "id": "bc30c56c",
   "metadata": {},
   "outputs": [],
   "source": []
  },
  {
   "cell_type": "code",
   "execution_count": 38,
   "id": "d1c787a8",
   "metadata": {},
   "outputs": [],
   "source": [
    "user_id = \"1154af1a-7bf6-441d-ae06-4590a66c0d3d\"\n",
    "config = RunnableConfig(configurable={\"thread_id\": user_id})\n",
    "l = await checkpointer.aget(config=config)"
   ]
  },
  {
   "cell_type": "code",
   "execution_count": 40,
   "id": "f6515f35",
   "metadata": {},
   "outputs": [],
   "source": [
    "user_id = \"user_123\"\n",
    "config = RunnableConfig(configurable={\"thread_id\": user_id})\n",
    "m = await checkpointer.aget(config=config)"
   ]
  },
  {
   "cell_type": "code",
   "execution_count": null,
   "id": "4e79c4cb",
   "metadata": {},
   "outputs": [],
   "source": [
    "from enum import Enum\n",
    "from typing import Sequence\n",
    "from langchain_core.messages import AIMessage, BaseMessage, ToolMessage\n",
    "\n",
    "\n",
    "class ErrorCode(Enum):\n",
    "    GRAPH_RECURSION_LIMIT = \"GRAPH_RECURSION_LIMIT\"\n",
    "    INVALID_CONCURRENT_GRAPH_UPDATE = \"INVALID_CONCURRENT_GRAPH_UPDATE\"\n",
    "    INVALID_GRAPH_NODE_RETURN_VALUE = \"INVALID_GRAPH_NODE_RETURN_VALUE\"\n",
    "    MULTIPLE_SUBGRAPHS = \"MULTIPLE_SUBGRAPHS\"\n",
    "    INVALID_CHAT_HISTORY = \"INVALID_CHAT_HISTORY\"\n",
    "\n",
    "\n",
    "def create_error_message(*, message: str, error_code: ErrorCode) -> str:\n",
    "    return (\n",
    "        f\"{message}\\n\"\n",
    "        \"For troubleshooting, visit: https://python.langchain.com/docs/\"\n",
    "        f\"troubleshooting/errors/{error_code.value}\"\n",
    "    )\n",
    "\n",
    "\n",
    "def _validate_chat_history(\n",
    "    messages: Sequence[BaseMessage],\n",
    "):\n",
    "    \"\"\"Validate that all tool calls in AIMessages have a corresponding ToolMessage.\"\"\"\n",
    "    all_tool_calls = [\n",
    "        tool_call\n",
    "        for message in messages\n",
    "        if isinstance(message, AIMessage)\n",
    "        for tool_call in message.tool_calls\n",
    "    ]\n",
    "    tool_call_ids_with_results = {\n",
    "        message.tool_call_id for message in messages if isinstance(message, ToolMessage)\n",
    "    }\n",
    "    tool_calls_without_results = [\n",
    "        tool_call\n",
    "        for tool_call in all_tool_calls\n",
    "        if tool_call[\"id\"] not in tool_call_ids_with_results\n",
    "    ]\n",
    "\n",
    "    return all_tool_calls"
   ]
  },
  {
   "cell_type": "code",
   "execution_count": null,
   "id": "08925583",
   "metadata": {},
   "outputs": [
    {
     "data": {
      "text/plain": [
       "False"
      ]
     },
     "execution_count": 77,
     "metadata": {},
     "output_type": "execute_result"
    }
   ],
   "source": [
    "messages_l = l[\"channel_values\"][\"messages\"]\n",
    "\n",
    "\n",
    "ll = _validate_chat_history(messages_l)\n",
    "\n",
    "isinstance(ll, ToolMessage)"
   ]
  },
  {
   "cell_type": "code",
   "execution_count": null,
   "id": "e387c140",
   "metadata": {},
   "outputs": [
    {
     "data": {
      "text/plain": [
       "False"
      ]
     },
     "execution_count": 78,
     "metadata": {},
     "output_type": "execute_result"
    }
   ],
   "source": [
    "messages_m = m[\"channel_values\"][\"messages\"]\n",
    "mm = _validate_chat_history(messages_m)\n",
    "isinstance(mm, ToolMessage)"
   ]
  },
  {
   "cell_type": "code",
   "execution_count": 80,
   "id": "55224bcc",
   "metadata": {},
   "outputs": [
    {
     "data": {
      "text/plain": [
       "[HumanMessage(content='quero trabalhar com van escolar. o que eu preciso pra conseguir a autorização da prefeitura? o carro tem que ter o que?', additional_kwargs={}, response_metadata={}, id='26470c70-6781-467c-9a0e-f826b46a8de2'),\n",
       " AIMessage(content='', additional_kwargs={'function_call': {'name': 'google_search', 'arguments': '{\"query\": \"autoriza\\\\u00e7\\\\u00e3o van escolar prefeitura rio de janeiro requisitos\"}'}}, response_metadata={'is_blocked': False, 'safety_ratings': [], 'usage_metadata': {'prompt_token_count': 4482, 'candidates_token_count': 13, 'total_token_count': 4597, 'cached_content_token_count': 4366, 'prompt_tokens_details': [{'modality': 1, 'token_count': 4482}], 'cache_tokens_details': [{'modality': 1, 'token_count': 4366}], 'candidates_tokens_details': [{'modality': 1, 'token_count': 13}], 'thoughts_token_count': 102}, 'finish_reason': 'STOP', 'avg_logprobs': -1.3487435854398286, 'model_name': 'gemini-2.5-flash'}, id='run--11744d20-998e-4fab-82e7-cd352e3120e6-0', tool_calls=[{'name': 'google_search', 'args': {'query': 'autorização van escolar prefeitura rio de janeiro requisitos'}, 'id': '3e66bc30-16b6-47dd-a598-048e3510fea3', 'type': 'tool_call'}], usage_metadata={'input_tokens': 4482, 'output_tokens': 13, 'total_tokens': 4597, 'input_token_details': {'cache_read': 4366}, 'output_token_details': {'reasoning': 102}}),\n",
       " HumanMessage(content='quero trabalhar com van escolar. o que eu preciso pra conseguir a autorização da prefeitura? o carro tem que ter o que?', additional_kwargs={}, response_metadata={}, id='0beb8073-df7f-41b3-bae7-b82ad58469a0'),\n",
       " HumanMessage(content='quero trabalhar com van escolar. o que eu preciso pra conseguir a autorização da prefeitura? o carro tem que ter o que?', additional_kwargs={}, response_metadata={}, id='7f856a81-4655-44c4-a1e1-56108d448566'),\n",
       " HumanMessage(content='quero trabalhar com van escolar. o que eu preciso pra conseguir a autorização da prefeitura? o carro tem que ter o que?', additional_kwargs={}, response_metadata={}, id='4c0e778f-4d3e-4e56-b543-2045651b1706'),\n",
       " HumanMessage(content='qual foi minha ultima msg msm?', additional_kwargs={}, response_metadata={}, id='b8df1def-6252-4594-8d02-65e23ded8102')]"
      ]
     },
     "execution_count": 80,
     "metadata": {},
     "output_type": "execute_result"
    }
   ],
   "source": [
    "messages_l"
   ]
  },
  {
   "cell_type": "code",
   "execution_count": 79,
   "id": "4bb64735",
   "metadata": {},
   "outputs": [
    {
     "data": {
      "text/plain": [
       "[HumanMessage(content='quem é o presidente de tuvalu? utilize a tool google_search', additional_kwargs={}, response_metadata={}, id='acdcb3ba-7816-4c32-9daa-97c3c9cc49fd'),\n",
       " AIMessage(content='', additional_kwargs={'function_call': {'name': 'google_search', 'arguments': '{\"query\": \"presidente de tuvalu\"}'}}, response_metadata={'is_blocked': False, 'safety_ratings': [], 'usage_metadata': {'prompt_token_count': 3976, 'candidates_token_count': 8, 'total_token_count': 4029, 'prompt_tokens_details': [{'modality': 1, 'token_count': 3976}], 'candidates_tokens_details': [{'modality': 1, 'token_count': 8}], 'thoughts_token_count': 45, 'cached_content_token_count': 0, 'cache_tokens_details': []}, 'finish_reason': 'STOP', 'avg_logprobs': -1.2998656034469604, 'model_name': 'gemini-2.5-flash'}, id='run--754f561b-8024-421c-acff-f8e74292b765-0', tool_calls=[{'name': 'google_search', 'args': {'query': 'presidente de tuvalu'}, 'id': '96e4778a-3983-4c23-9ee8-66632ca51451', 'type': 'tool_call'}], usage_metadata={'input_tokens': 3976, 'output_tokens': 8, 'total_tokens': 4029, 'input_token_details': {'cache_read': 0}, 'output_token_details': {'reasoning': 45}}),\n",
       " ToolMessage(content='{\"text\":\"### Research Artifact: Leadership of Tuvalu\\\\n\\\\n**Date of Search:** August 8, 2025\\\\n\\\\nTuvalu is a constitutional monarchy with King Charles III as the Head of State, represented by a Governor-General [1]. The head of government in Tuvalu is the Prime Minister [1].\\\\n\\\\nThe current Prime Minister of Tuvalu is Feleti Teo [2]. He assumed office on February 26, 2024, after being elected unopposed by the parliament [1]. Teo previously served as the Attorney General of Tuvalu and as the executive director of the Western and Central Pacific Fisheries Commission (WCPFC) [1]. His father, Sir Fiatau Penitala Teo, was the first Governor General of Tuvalu [1].\\\\n\\\\nPrior to Feleti Teo, Kausea Natano served as the Prime Minister of Tuvalu from September 19, 2019, until the general election in January 2024, where he lost his seat [3]. Enele Sopoaga was Prime Minister from August 1, 2013, to September 19, 2019 [1].\\\\n\\\\nTuvalu\\'s political system is characterized by a non-partisan democracy, meaning elections are held without formal political parties. Instead, political alliances are based on personal, clan, and family connections [1]. The parliament consists of 16 members elected from eight constituencies [1]. The Prime Minister is elected by a majority of these members [1].\\\\n\\\\n**Sources:**\\\\n - [1] [wikipedia.org](https://en.wikipedia.org/wiki/List_of_heads_of_state_of_Tuvalu)\\\\n - [2] [youtube.com](https://www.youtube.com/watch?app=desktop&v=utJK2vswX-k&pp=ygUQI3RlYm91bnByZXNpZGVudA%3D%3D)\\\\n - [3] [pidf.int](https://www.pidf.int/members-tuvalu/)\\\\n\",\"sources\":[{\"label\":\"wikipedia.org\",\"uri\":\"https://vertexaisearch.cloud.google.com/grounding-api-redirect/AUZIYQHDb5wtoKGLaTzXY0O4JxoIO__asSA8-v3HV2jaI-Q-RgPKMyLIsgCIB5ihTPdDXK88xgpsTTo6hxVPOeyt4HgNhvc5zf4Qr8lEEzoWfNhl9hmL6ZX17SAvsDvAiw2WMiNvXxBO9-RhL4NVttV86-xv6lu1XXqvGzA0\",\"url\":\"https://en.wikipedia.org/wiki/List_of_heads_of_state_of_Tuvalu\",\"index\":1},{\"label\":\"pidf.int\",\"uri\":\"https://vertexaisearch.cloud.google.com/grounding-api-redirect/AUZIYQHycu6wi3jUlbmfRbMU3qhHIQg3AKFZBTv_uygBeU7DTndBzAkQCATj-0Ep-TP3nFJIH5I0ztxLOEElsfuN7Mvuspl87fhc9FW1FYLrX3NMeP80YzRf5Iu269PEm5ixAQ==\",\"url\":\"https://www.pidf.int/members-tuvalu/\",\"index\":2},{\"label\":\"youtube.com\",\"uri\":\"https://vertexaisearch.cloud.google.com/grounding-api-redirect/AUZIYQGbYRrV55Pzk0_ImenFU6QU9zYbuyQGi2mcTQC_05240smeK7V4K_hKqX4zrXEsLJuD9Ez5n9Uy-oNlj71MM9mErckr6OtNDRKT1U1-mgcy1jWkIBIhRyNxYSiaDmIQ7tLcaJMHgNT6lz1IwSUWAkdTuTHtm5Z_QmZJakMBdLql20zP_AFcyoBH\",\"url\":\"https://www.youtube.com/watch?app=desktop&v=utJK2vswX-k&pp=ygUQI3RlYm91bnByZXNpZGVudA%3D%3D\",\"index\":3}],\"web_search_queries\":[\"President of Tuvalu\",\"Who is the current leader of Tuvalu\",\"Tuvalu government head\",\"Tuvalu prime minister\",\"Tuvalu political system\"],\"id\":\"7c689e0c-593f-495c-a40a-9a823a7562c7\"}', name='google_search', id='5a187a9e-5019-42f5-b52e-39a4bae8a3ea', tool_call_id='96e4778a-3983-4c23-9ee8-66632ca51451'),\n",
       " AIMessage(content='Olá! Tuvalu não tem um presidente, pois é uma monarquia constitucional. O chefe de governo de Tuvalu é o *Primeiro-Ministro*.\\n\\nAtualmente, o Primeiro-Ministro de Tuvalu é *Feleti Teo*. Ele assumiu o cargo em 26 de fevereiro de 2024.', additional_kwargs={}, response_metadata={'is_blocked': False, 'safety_ratings': [], 'usage_metadata': {'prompt_token_count': 4994, 'candidates_token_count': 69, 'total_token_count': 5192, 'prompt_tokens_details': [{'modality': 1, 'token_count': 4994}], 'candidates_tokens_details': [{'modality': 1, 'token_count': 69}], 'thoughts_token_count': 129, 'cached_content_token_count': 0, 'cache_tokens_details': []}, 'finish_reason': 'STOP', 'avg_logprobs': -0.46075453274491907, 'model_name': 'gemini-2.5-flash'}, id='run--9b1e593c-e067-47a0-bdec-27519975e522-0', usage_metadata={'input_tokens': 4994, 'output_tokens': 69, 'total_tokens': 5192, 'input_token_details': {'cache_read': 0}, 'output_token_details': {'reasoning': 129}})]"
      ]
     },
     "execution_count": 79,
     "metadata": {},
     "output_type": "execute_result"
    }
   ],
   "source": [
    "messages_m"
   ]
  },
  {
   "cell_type": "code",
   "execution_count": null,
   "id": "942d3b5e",
   "metadata": {},
   "outputs": [],
   "source": []
  },
  {
   "cell_type": "code",
   "execution_count": null,
   "id": "ed3cd349",
   "metadata": {},
   "outputs": [],
   "source": [
    "# list = checkpointer.alist(config={\"configurable\": {\"thread_id\": user_id}})\n",
    "# print(list)"
   ]
  },
  {
   "cell_type": "code",
   "execution_count": null,
   "id": "e997845a",
   "metadata": {},
   "outputs": [],
   "source": []
  },
  {
   "cell_type": "code",
   "execution_count": null,
   "id": "9f3c5172",
   "metadata": {},
   "outputs": [],
   "source": []
  },
  {
   "cell_type": "code",
   "execution_count": null,
   "id": "648bd0fa",
   "metadata": {},
   "outputs": [],
   "source": []
  },
  {
   "cell_type": "code",
   "execution_count": null,
   "id": "086ab2c6",
   "metadata": {},
   "outputs": [],
   "source": []
  },
  {
   "cell_type": "code",
   "execution_count": null,
   "id": "b07b46b3",
   "metadata": {},
   "outputs": [],
   "source": []
  }
 ],
 "metadata": {
  "kernelspec": {
   "display_name": "app-eai-agent-google-engine",
   "language": "python",
   "name": "python3"
  },
  "language_info": {
   "codemirror_mode": {
    "name": "ipython",
    "version": 3
   },
   "file_extension": ".py",
   "mimetype": "text/x-python",
   "name": "python",
   "nbconvert_exporter": "python",
   "pygments_lexer": "ipython3",
   "version": "3.13.2"
  }
 },
 "nbformat": 4,
 "nbformat_minor": 5
}
